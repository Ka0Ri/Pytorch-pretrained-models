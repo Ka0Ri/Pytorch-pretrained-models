{
 "cells": [
  {
   "cell_type": "code",
   "execution_count": 1,
   "metadata": {},
   "outputs": [
    {
     "name": "stderr",
     "output_type": "stream",
     "text": [
      "c:\\Users\\197796\\Anaconda3\\envs\\AISeed\\lib\\site-packages\\neptune\\common\\warnings.py:62: NeptuneDeprecationWarning: You're importing the Neptune client library via the deprecated `neptune.new` module, which will be removed in a future release. Import directly from `neptune` instead.\n",
      "  warnings.warn(\n"
     ]
    }
   ],
   "source": [
    "import Modules.Model.Segment as Segment\n",
    "import Modules.Model.Detector as Detector\n",
    "import Modules.Model.Classifier as Classifier\n",
    "from torchvision.transforms._presets import ObjectDetection\n",
    "import os\n",
    "from Modules.dataloader import base_dataset, DataModule"
   ]
  },
  {
   "cell_type": "code",
   "execution_count": 2,
   "metadata": {},
   "outputs": [],
   "source": [
    "# class PennFudanDataset(base_dataset):\n",
    "\n",
    "#     def __init__(self, transform=None,\n",
    "#                  data_path='../../data/PennFudanPed/'):\n",
    "        \n",
    "        \n",
    "#         imgs = list(map(lambda img: os.path.join(data_path, \"PNGImages\", img), \n",
    "#                         sorted(os.listdir(os.path.join(data_path, \"PNGImages\")))))\n",
    "#         masks = list(map(lambda mask: os.path.join(data_path, \"PedMasks\", mask), \n",
    "#                         sorted(os.listdir(os.path.join(data_path, \"PedMasks\")))))\n",
    "        \n",
    "#         if(transform is None):\n",
    "#             transform = partial(ObjectDetection)()\n",
    "\n",
    "#         super(PennFudanDataset, self).__init__(data=imgs, targets=masks, transform=transform)\n",
    "\n",
    "#     def __parse_mask__(self, mask):\n",
    "#         mask = np.array(mask)\n",
    "#         # instances are encoded as different colors\n",
    "#         obj_ids = np.unique(mask)\n",
    "#         # first id is the background, so remove it\n",
    "#         obj_ids = obj_ids[1:]\n",
    "\n",
    "#         # split the color-encoded mask into a set\n",
    "#         # of binary masks\n",
    "#         masks = mask == obj_ids[:, None, None]\n",
    "\n",
    "#         # get bounding box coordinates for each mask\n",
    "#         num_objs = len(obj_ids)\n",
    "#         boxes = []\n",
    "#         for i in range(num_objs):\n",
    "#             pos = np.nonzero(masks[i])\n",
    "#             xmin = np.min(pos[1])\n",
    "#             xmax = np.max(pos[1])\n",
    "#             ymin = np.min(pos[0])\n",
    "#             ymax = np.max(pos[0])\n",
    "#             boxes.append([xmin, ymin, xmax, ymax])\n",
    "        \n",
    "#         return boxes, masks, obj_ids\n",
    "\n",
    "#     def __load_sample__(self, index) -> dict:\n",
    "        \n",
    "#         img = Image.open(self.data[index]).convert(\"RGB\")\n",
    "#         mask = Image.open(self.targets[index]).convert('L')\n",
    "#         boxes, masks, obj_ids = self.__parse_mask__(mask)\n",
    "\n",
    "#         return {'data': img,\n",
    "#                 'target': {'boxes': boxes,\n",
    "#                            'masks': masks,\n",
    "#                            'obj_ids': obj_ids},\n",
    "#                 'original': img}\n",
    "    \n",
    "#     def __transform__(self, sample: dict) -> dict:\n",
    "        \n",
    "#         boxes = sample['target']['boxes']\n",
    "#         masks = sample['target']['masks']\n",
    "#         num_objs = len(sample['target']['obj_ids'])\n",
    "\n",
    "#         # convert everything into a torch.Tensor\n",
    "#         boxes = torch.as_tensor(boxes, dtype=torch.float32)\n",
    "#         # there is only one class\n",
    "#         labels = torch.ones((num_objs,), dtype=torch.int64)\n",
    "#         masks = torch.as_tensor(masks, dtype=torch.uint8)\n",
    "\n",
    "#         # image_id = torch.tensor([index])\n",
    "#         area = (boxes[:, 3] - boxes[:, 1]) * (boxes[:, 2] - boxes[:, 0])\n",
    "#         # suppose all instances are not crowd\n",
    "#         iscrowd = torch.zeros((num_objs,), dtype=torch.int64)\n",
    "\n",
    "#         target = {}\n",
    "#         target[\"boxes\"] = boxes\n",
    "#         target[\"labels\"] = labels\n",
    "#         target[\"masks\"] = masks\n",
    "#         target[\"image_id\"] = torch.tensor([0])\n",
    "#         target[\"area\"] = area\n",
    "#         target[\"iscrowd\"] = iscrowd\n",
    "\n",
    "#         sample.update({'target': target})\n",
    "\n",
    "#         return super().__transform__(sample)"
   ]
  },
  {
   "cell_type": "code",
   "execution_count": 3,
   "metadata": {},
   "outputs": [],
   "source": [
    "from torchvision import datasets\n",
    "from torchvision import transforms\n",
    "\n",
    "class CIFAR10(base_dataset):\n",
    "    \n",
    "    def __init__(self, data_path, train, transform=None) -> None:\n",
    "\n",
    "        dataset = datasets.CIFAR10(root=data_path, \n",
    "                                         train=train, \n",
    "                                         transform=transform, download=True)\n",
    "        \n",
    "        if transform is None:\n",
    "            transform = transforms.Compose([\n",
    "                    transforms.ToPILImage(),  # Convert numpy array to PIL Image\n",
    "                    transforms.Resize((224, 224)),  # Resize the image to 32x32\n",
    "                    transforms.ToTensor(),  # Convert PIL Image to PyTorch Tensor\n",
    "                    transforms.Normalize((0.5, 0.5, 0.5), (0.5, 0.5, 0.5))  # Normalize the data\n",
    "                ])\n",
    "\n",
    "        super().__init__(data=dataset.data[:100], targets=dataset.targets[:100], transform=transform)\n",
    "    "
   ]
  },
  {
   "cell_type": "code",
   "execution_count": 4,
   "metadata": {},
   "outputs": [
    {
     "name": "stdout",
     "output_type": "stream",
     "text": [
      "Files already downloaded and verified\n",
      "Files already downloaded and verified\n"
     ]
    },
    {
     "name": "stderr",
     "output_type": "stream",
     "text": [
      "INFO:pytorch_lightning.utilities.rank_zero:GPU available: True (cuda), used: True\n",
      "INFO:pytorch_lightning.utilities.rank_zero:TPU available: False, using: 0 TPU cores\n",
      "INFO:pytorch_lightning.utilities.rank_zero:IPU available: False, using: 0 IPUs\n",
      "INFO:pytorch_lightning.utilities.rank_zero:HPU available: False, using: 0 HPUs\n",
      "c:\\Users\\197796\\Anaconda3\\envs\\AISeed\\lib\\site-packages\\pytorch_lightning\\callbacks\\model_checkpoint.py:612: UserWarning: Checkpoint directory E:\\code\\AISeed\\Pytorch-pretrained-models\\models\\test exists and is not empty.\n",
      "  rank_zero_warn(f\"Checkpoint directory {dirpath} exists and is not empty.\")\n",
      "INFO:pytorch_lightning.accelerators.cuda:LOCAL_RANK: 0 - CUDA_VISIBLE_DEVICES: [0]\n",
      "INFO:pytorch_lightning.callbacks.model_summary:\n",
      "  | Name             | Type                | Params\n",
      "---------------------------------------------------------\n",
      "0 | model            | ClassificationModel | 11.2 M\n",
      "1 | loss_fn          | CrossEntropyLoss    | 0     \n",
      "2 | train_metrics_fn | MetricCollection    | 0     \n",
      "3 | val_metrics_fn   | MetricCollection    | 0     \n",
      "---------------------------------------------------------\n",
      "11.2 M    Trainable params\n",
      "0         Non-trainable params\n",
      "11.2 M    Total params\n",
      "44.727    Total estimated model params size (MB)\n"
     ]
    },
    {
     "data": {
      "application/vnd.jupyter.widget-view+json": {
       "model_id": "a3d24fa9196144b6a2b3bb486ce11444",
       "version_major": 2,
       "version_minor": 0
      },
      "text/plain": [
       "Sanity Checking: 0it [00:00, ?it/s]"
      ]
     },
     "metadata": {},
     "output_type": "display_data"
    },
    {
     "name": "stderr",
     "output_type": "stream",
     "text": [
      "c:\\Users\\197796\\Anaconda3\\envs\\AISeed\\lib\\site-packages\\pytorch_lightning\\trainer\\connectors\\data_connector.py:430: PossibleUserWarning: The dataloader, val_dataloader, does not have many workers which may be a bottleneck. Consider increasing the value of the `num_workers` argument` (try 24 which is the number of cpus on this machine) in the `DataLoader` init to improve performance.\n",
      "  rank_zero_warn(\n",
      "c:\\Users\\197796\\Anaconda3\\envs\\AISeed\\lib\\site-packages\\neptune\\common\\warnings.py:62: NeptuneWarning: To avoid unintended consumption of logging hours during interactive sessions, the following monitoring options are disabled unless set to 'True' when initializing the run: 'capture_stdout', 'capture_stderr', and 'capture_hardware_metrics'.\n",
      "  warnings.warn(\n"
     ]
    },
    {
     "name": "stdout",
     "output_type": "stream",
     "text": [
      "https://app.neptune.ai/kaori/AISeed/e/AIS-263\n"
     ]
    },
    {
     "name": "stderr",
     "output_type": "stream",
     "text": [
      "c:\\Users\\197796\\Anaconda3\\envs\\AISeed\\lib\\site-packages\\pytorch_lightning\\trainer\\connectors\\data_connector.py:430: PossibleUserWarning: The dataloader, train_dataloader, does not have many workers which may be a bottleneck. Consider increasing the value of the `num_workers` argument` (try 24 which is the number of cpus on this machine) in the `DataLoader` init to improve performance.\n",
      "  rank_zero_warn(\n",
      "c:\\Users\\197796\\Anaconda3\\envs\\AISeed\\lib\\site-packages\\pytorch_lightning\\loops\\fit_loop.py:280: PossibleUserWarning: The number of training batches (5) is smaller than the logging interval Trainer(log_every_n_steps=50). Set a lower value for log_every_n_steps if you want to see logs for the training epoch.\n",
      "  rank_zero_warn(\n"
     ]
    },
    {
     "data": {
      "application/vnd.jupyter.widget-view+json": {
       "model_id": "a8bb2fa7df2d47ddb97fa92c4f8d50e5",
       "version_major": 2,
       "version_minor": 0
      },
      "text/plain": [
       "Training: 0it [00:00, ?it/s]"
      ]
     },
     "metadata": {},
     "output_type": "display_data"
    },
    {
     "name": "stderr",
     "output_type": "stream",
     "text": [
      "c:\\Users\\197796\\Anaconda3\\envs\\AISeed\\lib\\site-packages\\pytorch_lightning\\loops\\optimization\\automatic.py:129: UserWarning: `training_step` returned `None`. If this was on purpose, ignore this warning...\n",
      "  self.warning_cache.warn(\"`training_step` returned `None`. If this was on purpose, ignore this warning...\")\n"
     ]
    },
    {
     "data": {
      "application/vnd.jupyter.widget-view+json": {
       "model_id": "00324dc8679e4adc99528d9870c6ecfb",
       "version_major": 2,
       "version_minor": 0
      },
      "text/plain": [
       "Validation: 0it [00:00, ?it/s]"
      ]
     },
     "metadata": {},
     "output_type": "display_data"
    },
    {
     "data": {
      "application/vnd.jupyter.widget-view+json": {
       "model_id": "16970f3d30644fa6a642fc1bf6738433",
       "version_major": 2,
       "version_minor": 0
      },
      "text/plain": [
       "Validation: 0it [00:00, ?it/s]"
      ]
     },
     "metadata": {},
     "output_type": "display_data"
    },
    {
     "data": {
      "application/vnd.jupyter.widget-view+json": {
       "model_id": "50fd85116ba14800bb55ed418d9683f4",
       "version_major": 2,
       "version_minor": 0
      },
      "text/plain": [
       "Validation: 0it [00:00, ?it/s]"
      ]
     },
     "metadata": {},
     "output_type": "display_data"
    },
    {
     "data": {
      "application/vnd.jupyter.widget-view+json": {
       "model_id": "6ef24f59406b47669e2a06b27e13ff7c",
       "version_major": 2,
       "version_minor": 0
      },
      "text/plain": [
       "Validation: 0it [00:00, ?it/s]"
      ]
     },
     "metadata": {},
     "output_type": "display_data"
    },
    {
     "data": {
      "application/vnd.jupyter.widget-view+json": {
       "model_id": "88ba2ca825da4f558a3504d8f7dc312e",
       "version_major": 2,
       "version_minor": 0
      },
      "text/plain": [
       "Validation: 0it [00:00, ?it/s]"
      ]
     },
     "metadata": {},
     "output_type": "display_data"
    },
    {
     "name": "stderr",
     "output_type": "stream",
     "text": [
      "INFO:pytorch_lightning.utilities.rank_zero:`Trainer.fit` stopped: `max_epochs=5` reached.\n"
     ]
    }
   ],
   "source": [
    "import yaml\n",
    "from Modules.wrap_model import WrapModel\n",
    "from Modules.ultis import get_trainer, seed_everything, get_class_overlay, get_basic_callbacks, get_metrics, get_optimizer, get_loss_function\n",
    "import torchvision\n",
    "import torch\n",
    "from pytorch_lightning.loggers import NeptuneLogger\n",
    "\n",
    "seed_everything(44)\n",
    "torch.backends.cudnn.benchmark = True # keep True if all the input have same size.\n",
    "torch.set_float32_matmul_precision('medium')\n",
    "\n",
    "\n",
    "with open('config/new-config.yml', 'r') as stream:\n",
    "    PARAMS = yaml.safe_load(stream)\n",
    "\n",
    "logger = NeptuneLogger(\n",
    "        project=PARAMS['logger']['project'],\n",
    "        # api_key=PARAMS['logger']['api_key'],\n",
    "        tags=PARAMS['logger']['tags'],\n",
    "        log_model_checkpoints=False)\n",
    "\n",
    "#load data\n",
    "train_dataset = CIFAR10(data_path=PARAMS['dataset_settings']['path'], train=True)\n",
    "test_dataset = CIFAR10(data_path=PARAMS['dataset_settings']['path'], train=False)\n",
    "\n",
    "data_loader = DataModule(train_dataset,\n",
    "                        test_dataset,\n",
    "                        batch_size=PARAMS['dataset_settings']['batch_size'],\n",
    "                        num_workers=PARAMS['dataset_settings']['num_workers'])\n",
    "\n",
    "classification_model = Classifier.ClassificationModel(model=torchvision.models.resnet18,\n",
    "                                                      weight=torchvision.models.ResNet18_Weights.DEFAULT,\n",
    "                                                      is_freeze=PARAMS['architect_settings']['is_freeze'],\n",
    "                                                      is_full=PARAMS['architect_settings']['is_full'],\n",
    "                                                      n_cls=PARAMS['dataset_settings']['n_cls'])\n",
    "                                                      \n",
    "# create model\n",
    "model = WrapModel(  model=classification_model,\n",
    "                    optimizer_fn=get_optimizer(PARAMS['training_settings']['optimizer'],\n",
    "                                            PARAMS['training_settings']['lr']),\n",
    "                    loss_fn=get_loss_function(PARAMS['training_settings']['loss']),\n",
    "                    train_metrics_fn=get_metrics(PARAMS['training_settings']['metrics'],\n",
    "                                        PARAMS['dataset_settings']['n_cls'],\n",
    "                                        prefix='train_'),\n",
    "                    val_metrics_fn=get_metrics(PARAMS['training_settings']['metrics'],\n",
    "                                        PARAMS['dataset_settings']['n_cls'],\n",
    "                                        prefix='val_'),\n",
    "                    log_fn=get_class_overlay\n",
    "                  )\n",
    "\n",
    "trainer = get_trainer(logger=logger,\n",
    "                      gpu_ids=PARAMS['training_settings']['gpu_ids'],\n",
    "                      monitor=PARAMS['training_settings']['monitor'],\n",
    "                      mode=PARAMS['training_settings']['mode'],\n",
    "                      max_epochs=PARAMS['training_settings']['max_epochs'],\n",
    "                      ckpt_path=PARAMS['training_settings']['ckpt_path'],\n",
    "                      early_stopping=PARAMS['training_settings']['early_stopping'])\n",
    "\n",
    "# train\n",
    "trainer.fit(model, data_loader)\n",
    "# test\n",
    "# trainer.test(model, data_loader)"
   ]
  }
 ],
 "metadata": {
  "kernelspec": {
   "display_name": "AISeed",
   "language": "python",
   "name": "python3"
  },
  "language_info": {
   "codemirror_mode": {
    "name": "ipython",
    "version": 3
   },
   "file_extension": ".py",
   "mimetype": "text/x-python",
   "name": "python",
   "nbconvert_exporter": "python",
   "pygments_lexer": "ipython3",
   "version": "3.9.16"
  }
 },
 "nbformat": 4,
 "nbformat_minor": 2
}
